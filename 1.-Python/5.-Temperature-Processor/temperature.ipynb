{
 "cells": [
  {
   "cell_type": "markdown",
   "metadata": {},
   "source": [
    "<img src=\"https://bit.ly/2VnXWr2\" width=\"100\" align=\"left\">"
   ]
  },
  {
   "cell_type": "markdown",
   "metadata": {},
   "source": [
    "# Temperature Sensor\n",
    "\n",
    "There is a temperature sensor in the processor of your company's server. The company wants to analyze the data provided by the sensor to decide if they should change the cooling system for a better one. As changing the cooling system is expensive and you are an excellent data analyst, you can't make a decision without basis.\n",
    "\n",
    "## Tools\n",
    "You don't necessarily need to use all the tools. Maybe you opt to use some of them or completely different ones, they are given to help you shape the exercise. Programming exercises can be solved in many different ways.\n",
    "1. Data structures: **lists**\n",
    "2. Loops: **list comprehension**\n",
    "3. Functions: **min, max, print, len**\n",
    "4. Conditional statements: **if-elif-else**\n",
    "\n",
    "## Tasks\n",
    "The temperatures measured throughout the 24 hours of a day are:"
   ]
  },
  {
   "cell_type": "code",
   "execution_count": null,
   "metadata": {},
   "outputs": [],
   "source": [
    "temperatures_C = [33, 66, 65, 0, 59, 60, 62, 64, 70, 76, 80, 81, 80, 83, 90, 79, 61, 53, 50, 49, 53, 48, 45, 39]"
   ]
  },
  {
   "cell_type": "markdown",
   "metadata": {},
   "source": [
    "The first element of the list is the temperature at 12am, the second element is the temperature at 1am, and so on. \n",
    "\n",
    "The company has decided that if one of the following events occurs, then the cooling system needs to be replaced for a new one to avoid damaging the processor.\n",
    "* More than 4 temperatures are greater than or equal to 70ºC.\n",
    "* Any temperature is above 80ºC.\n",
    "* The average temperature exceeds 65ºC.\n",
    "\n",
    "Follow the steps so that you can make the decision.\n",
    "\n",
    "#### 1. Find the minimum temperature of the day and store it in a variable."
   ]
  },
  {
   "cell_type": "code",
   "execution_count": 1,
   "metadata": {},
   "outputs": [
    {
     "name": "stdout",
     "output_type": "stream",
     "text": [
      "The minimum temperature of the day is 0\n"
     ]
    }
   ],
   "source": [
    "temperatures_C = [33, 66, 65, 0, 59, 60, 62, 64, 70, 76, 80, 81, 80, 83, 90, 79, 61, 53, 50, 49, 53, 48, 45, 39]\n",
    "\n",
    "min_temp = min(temperatures_C)\n",
    "\n",
    "print(\"The minimum temperature of the day is\", min_temp)"
   ]
  },
  {
   "cell_type": "markdown",
   "metadata": {},
   "source": [
    "#### 2. Find the maximum temperature of the day and store it in a variable."
   ]
  },
  {
   "cell_type": "code",
   "execution_count": 3,
   "metadata": {},
   "outputs": [
    {
     "name": "stdout",
     "output_type": "stream",
     "text": [
      "The maximum temperature of the day is 90\n"
     ]
    }
   ],
   "source": [
    "temperatures_C = [33, 66, 65, 0, 59, 60, 62, 64, 70, 76, 80, 81, 80, 83, 90, 79, 61, 53, 50, 49, 53, 48, 45, 39]\n",
    "\n",
    "max_temp = max(temperatures_C)\n",
    "\n",
    "print(\"The maximum temperature of the day is\", max_temp)"
   ]
  },
  {
   "cell_type": "markdown",
   "metadata": {},
   "source": [
    "#### 3. Create a list with the temperatures that are greater than or equal to 70ºC. Store it in a variable."
   ]
  },
  {
   "cell_type": "code",
   "execution_count": 4,
   "metadata": {},
   "outputs": [
    {
     "name": "stdout",
     "output_type": "stream",
     "text": [
      "[70, 76, 80, 81, 80, 83, 90, 79]\n"
     ]
    }
   ],
   "source": [
    "temperatures_C = [33, 66, 65, 0, 59, 60, 62, 64, 70, 76, 80, 81, 80, 83, 90, 79, 61, 53, 50, 49, 53, 48, 45, 39]\n",
    "\n",
    "temperatures_70_C = []\n",
    "\n",
    "for temperature in temperatures_C:\n",
    "    if temperature >= 70:\n",
    "        temperatures_70_C.append(temperature)\n",
    "\n",
    "print(temperatures_70_C)"
   ]
  },
  {
   "cell_type": "markdown",
   "metadata": {},
   "source": [
    "#### 4. Find the average temperature of the day and store it in a variable."
   ]
  },
  {
   "cell_type": "code",
   "execution_count": 5,
   "metadata": {},
   "outputs": [
    {
     "name": "stdout",
     "output_type": "stream",
     "text": [
      "The average temperature of the day 60.25\n"
     ]
    }
   ],
   "source": [
    "temperatures_C = [33, 66, 65, 0, 59, 60, 62, 64, 70, 76, 80, 81, 80, 83, 90, 79, 61, 53, 50, 49, 53, 48, 45, 39]\n",
    "\n",
    "sum_temperatures = sum(temperatures_C)\n",
    "len_temperatures = len(temperatures_C)\n",
    "\n",
    "avg = sum_temperatures / len_temperatures\n",
    "avg_temperatures_C = avg\n",
    "\n",
    "print(\"The average temperature of the day\", avg_temperatures_C)"
   ]
  },
  {
   "cell_type": "markdown",
   "metadata": {},
   "source": [
    "#### 5. Imagine that there was a sensor failure at 3am and the data for that specific hour was not recorded. How would you estimate the missing value? Replace the current value of the list at 3am for an estimation. "
   ]
  },
  {
   "cell_type": "code",
   "execution_count": 3,
   "metadata": {},
   "outputs": [
    {
     "name": "stdout",
     "output_type": "stream",
     "text": [
      "The missing value is 62\n",
      "0\n",
      "None\n",
      "[33, 66, 65, 62, 59, 60, 62, 64, 70, 76, 80, 81, 80, 83, 90, 79, 61, 53, 50, 49, 53, 48, 45, 39]\n"
     ]
    }
   ],
   "source": [
    "temperatures_C = [33, 66, 65, 0, 59, 60, 62, 64, 70, 76, 80, 81, 80, 83, 90, 79, 61, 53, 50, 49, 53, 48, 45, 39]\n",
    "\n",
    "temperature_2 = temperatures_C[2]\n",
    "temperature_4 = temperatures_C[4]\n",
    "temperature_3 = int((temperature_2 + temperature_4)/2)\n",
    "\n",
    "estimated_value = temperature_3\n",
    "\n",
    "print(\"The missing value is\", estimated_value)\n",
    "print(temperatures_C.pop(3))\n",
    "print(temperatures_C.insert(3, estimated_value))\n",
    "print(temperatures_C)"
   ]
  },
  {
   "cell_type": "markdown",
   "metadata": {},
   "source": [
    "#### 6. Bonus: the maintenance staff is from the United States and does not understand the international metric system. Help them by converting the temperatures from Celsius to Fahrenheit.\n",
    "To know more about temperature conversion check this [link](https://en.wikipedia.org/wiki/Conversion_of_units_of_temperature).\n",
    "\n",
    "**Formula**: \n",
    "\n",
    "$F = 1.8 * C + 32$"
   ]
  },
  {
   "cell_type": "code",
   "execution_count": 4,
   "metadata": {},
   "outputs": [
    {
     "name": "stdout",
     "output_type": "stream",
     "text": [
      "The list of temperatures in Farenheit is [91.4, 150.8, 149.0, 32.0, 138.2, 140.0, 143.6, 147.2, 158.0, 168.8, 176.0, 177.8, 176.0, 181.4, 194.0, 174.2, 141.8, 127.4, 122.0, 120.2, 127.4, 118.4, 113.0, 102.2]\n"
     ]
    }
   ],
   "source": [
    "temperatures_C = [33, 66, 65, 0, 59, 60, 62, 64, 70, 76, 80, 81, 80, 83, 90, 79, 61, 53, 50, 49, 53, 48, 45, 39]\n",
    "\n",
    "temp_F = []\n",
    "t_F = 0\n",
    "\n",
    "for temperature in temperatures_C:\n",
    "    t_F = (1.8 * temperature + 32)\n",
    "    temp_F.append(round(t_F, 1))\n",
    "    \n",
    "print(\"The list of temperatures in Farenheit is\", temp_F)"
   ]
  },
  {
   "cell_type": "markdown",
   "metadata": {},
   "source": [
    "#### 7. Make a decision!\n",
    "Now it's time to make a decision taking into account what you have seen until now. \n",
    "\n",
    "Remember that if one of the following events occurs, then the cooling system needs to be replaced for a new one to avoid damaging the processor.\n",
    "* More than 4 temperatures are greater than or equal to 70ºC.\n",
    "* Any temperature is above 80ºC.\n",
    "* The average temperature exceeds 65ºC.\n",
    "\n",
    "#### To make your decision, check if any of the three conditions above is met. You might need to use some of the variables you created in steps 1 to 6. Print a message to show if the cooling system needs to be changed or not."
   ]
  },
  {
   "cell_type": "code",
   "execution_count": 2,
   "metadata": {},
   "outputs": [
    {
     "name": "stdout",
     "output_type": "stream",
     "text": [
      "The coolling system still be useful\n",
      "The coolling system still be useful\n",
      "The coolling system still be useful\n",
      "The coolling system still be useful\n",
      "The coolling system still be useful\n",
      "The coolling system still be useful\n",
      "The coolling system still be useful\n",
      "The coolling system still be useful\n",
      "The coolling system still be useful\n",
      "The coolling system still be useful\n",
      "The coolling system still be useful\n",
      "We have one condition to change the cooling system\n",
      "We have a second condition to change the cooling system\n",
      "The cooling system doesn't needs to be changed\n",
      "We have the third condition to change the cooling system\n",
      "The cooling system doesn't needs to be changed\n",
      "The cooling system doesn't needs to be changed\n",
      "The cooling system doesn't needs to be changed\n",
      "The cooling system doesn't needs to be changed\n",
      "The cooling system doesn't needs to be changed\n",
      "We have the third condition to change the cooling system\n",
      "We have the third condition to change the cooling system\n",
      "We have the third condition to change the cooling system\n",
      "We have the third condition to change the cooling system\n",
      "We have the third condition to change the cooling system\n",
      "We have the third condition to change the cooling system\n",
      "We have the third condition to change the cooling system\n",
      "We have the third condition to change the cooling system\n",
      "The cooling system doesn't needs to be changed\n",
      "The cooling system doesn't needs to be changed\n",
      "The cooling system doesn't needs to be changed\n",
      "The cooling system doesn't needs to be changed\n",
      "The cooling system doesn't needs to be changed\n",
      "The cooling system doesn't needs to be changed\n",
      "The cooling system doesn't needs to be changed\n",
      "The cooling system doesn't needs to be changed\n",
      "We made the decision to change the cooling system\n"
     ]
    }
   ],
   "source": [
    "temperatures_C = [33, 66, 65, 62, 59, 60, 62, 64, 70, 76, 80, 81, 80, 83, 90, 79, 61, 53, 50, 49, 53, 48, 45, 39]\n",
    "\n",
    "temperature_70 = 0\n",
    "temperature_80 = 0\n",
    "\n",
    "sum_temperatures = sum(temperatures_C)\n",
    "len_temperatures = len(temperatures_C)\n",
    "avg = sum_temperatures / len_temperatures\n",
    "avg_temperatures_C = avg\n",
    "\n",
    "for temperature in temperatures_C:\n",
    "    if temperature >= 70:\n",
    "        temperature_70 += 1\n",
    "        \n",
    "    if temperature_70 == 4:\n",
    "        print(\"We have one condition to change the cooling system\")\n",
    "    elif temperature_70 <= 4:\n",
    "        print(\"The coolling system still be useful\")\n",
    "        \n",
    "for temperature in temperatures_C:\n",
    "    if temperature >= 80:\n",
    "        temperature_80 += 1\n",
    "        \n",
    "    if temperature_80 >= 1:\n",
    "        print(\"We have a second condition to change the cooling system\")\n",
    "        break\n",
    "        \n",
    "for avg_temperatures_C in temperatures_C:\n",
    "    if avg_temperatures_C > 65:\n",
    "        print(\"We have the third condition to change the cooling system\")\n",
    "    elif avg_temperatures_C < 65:\n",
    "        print(\"The cooling system doesn't needs to be changed\")\n",
    "        \n",
    "if temperature_70 or temperature_80 or avg_temperatures_C:\n",
    "    print(\"We made the decision to change the cooling system\")"
   ]
  },
  {
   "cell_type": "markdown",
   "metadata": {},
   "source": [
    "## Bonus\n",
    "\n",
    "The company has decided that the decision you made is not valid. They want you to analyze the data again but this time, the conditions that need to be met in order to change the cooling system are different.\n",
    "\n",
    "This time, if one of the following events occurs, then the cooling system needs to be replaced:\n",
    "* The temperature is greater than 70ºC during more than 4 consecutive hours.\n",
    "* Any temperature is above 80ºC.\n",
    "* The average temperature exceeds 65ºC.\n",
    "\n",
    "Follow the steps so that you can make the decision.\n",
    "\n",
    "#### 1. Create a list with the hours where the temperature is greater than 70ºC. Store it in a variable."
   ]
  },
  {
   "cell_type": "code",
   "execution_count": 2,
   "metadata": {},
   "outputs": [
    {
     "name": "stdout",
     "output_type": "stream",
     "text": [
      "The hours where the temperature is greather than 70°C are: [9, 10, 11, 12, 13, 14, 15]\n"
     ]
    }
   ],
   "source": [
    "hours = []\n",
    "temperatures_C = [33, 66, 65, 62, 59, 60, 62, 64, 70, 76, 80, 81, 80, 83, 90, 79, 61, 53, 50, 49, 53, 48, 45, 39]\n",
    "\n",
    "x = 0\n",
    "y = 0\n",
    "\n",
    "hours_whit_high_temp = []\n",
    "\n",
    "for i in range(0,24):\n",
    "    hours.append(i)\n",
    "    \n",
    "for x,y in zip(hours, temperatures_C):\n",
    "    if y > 70:\n",
    "        hours_whit_high_temp.append(x)\n",
    "\n",
    "print(\"The hours where the temperature is greather than 70°C are:\", hours_whit_high_temp)"
   ]
  },
  {
   "cell_type": "markdown",
   "metadata": {},
   "source": [
    "#### 2. Check if the list you created in step 1 has more than 4 consecutive hours. "
   ]
  },
  {
   "cell_type": "code",
   "execution_count": 3,
   "metadata": {},
   "outputs": [
    {
     "name": "stdout",
     "output_type": "stream",
     "text": [
      "The list has more than 4 consecutive hours\n"
     ]
    }
   ],
   "source": [
    "hours_whit_high_temp = [9, 10, 11, 12, 13, 14, 15]\n",
    "\n",
    "len_hours = len(hours_whit_high_temp)\n",
    "\n",
    "if len_hours > 4:\n",
    "    print(\"The list has more than 4 consecutive hours\")"
   ]
  },
  {
   "cell_type": "markdown",
   "metadata": {},
   "source": [
    "#### 3. Make the decision!\n",
    "To make your decision, check if any of the three conditions is met. Print a message to show if the cooling system needs to be changed or not."
   ]
  },
  {
   "cell_type": "code",
   "execution_count": null,
   "metadata": {},
   "outputs": [],
   "source": [
    "temperatures_C = [33, 66, 65, 62, 59, 60, 62, 64, 70, 76, 80, 81, 80, 83, 90, 79, 61, 53, 50, 49, 53, 48, 45, 39]\n",
    "hours_whit_high_temp = [9, 10, 11, 12, 13, 14, 15]\n",
    "\n"
   ]
  },
  {
   "cell_type": "markdown",
   "metadata": {},
   "source": [
    "#### 4. Find the average value of the temperature lists (ºC and ºF). What is the relation between both average values?"
   ]
  },
  {
   "cell_type": "code",
   "execution_count": 4,
   "metadata": {},
   "outputs": [
    {
     "name": "stdout",
     "output_type": "stream",
     "text": [
      "The first condition was met\n",
      "The second condition was met\n",
      "The third condition was met\n",
      "We made the decision to change the cooling system, again\n"
     ]
    }
   ],
   "source": [
    "temperatures_C = [33, 66, 65, 62, 59, 60, 62, 64, 70, 76, 80, 81, 80, 83, 90, 79, 61, 53, 50, 49, 53, 48, 45, 39]\n",
    "hours_whit_high_temp = [9, 10, 11, 12, 13, 14, 15]\n",
    "\n",
    "temperature_70 = 0\n",
    "temperature_80 = 0\n",
    "\n",
    "len_hours = len(hours_whit_high_temp)\n",
    "sum_temperatures = sum(temperatures_C)\n",
    "len_temperatures = len(temperatures_C)\n",
    "avg = sum_temperatures / len_temperatures\n",
    "avg_temperatures_C = avg\n",
    "\n",
    "if len_hours > 4:\n",
    "    print(\"The first condition was met\")\n",
    "    \n",
    "for temperature in temperatures_C:\n",
    "    if temperature >= 80:\n",
    "        temperature_80 += 1\n",
    "        \n",
    "    if temperature_80 >= 1:\n",
    "        print(\"The second condition was met\")\n",
    "        break\n",
    "        \n",
    "for avg_temperatures_C in temperatures_C:\n",
    "    if avg_temperatures_C > 65:\n",
    "        print(\"The third condition was met\")\n",
    "        break\n",
    "            \n",
    "if len_hours or temperature_80 or avg_temperatures_C:\n",
    "    print(\"We made the decision to change the cooling system, again\")"
   ]
  },
  {
   "cell_type": "markdown",
   "metadata": {},
   "source": [
    "#### 5. Find the standard deviation of the temperature lists (ºC and ºF). What is the relation between both standard deviations?"
   ]
  },
  {
   "cell_type": "code",
   "execution_count": 5,
   "metadata": {},
   "outputs": [
    {
     "name": "stdout",
     "output_type": "stream",
     "text": [
      "The standard deviation for temperatures_C is 19.285681216902866\n",
      "The standard deviation for temperatures_F is 34.71422619042516\n",
      "The relation between std_C and std_F is 0.56\n"
     ]
    }
   ],
   "source": [
    "import numpy as np\n",
    "\n",
    "temperatures_C = [33, 66, 65, 0, 59, 60, 62, 64, 70, 76, 80, 81, 80, 83, 90, 79, 61, 53, 50, 49, 53, 48, 45, 39]\n",
    "temperatures_F = [91.4, 150.8, 149.0, 32.0, 138.2, 140.0, 143.6, 147.2, 158.0, 168.8, 176.0, 177.8, 176.0, 181.4, 194.0, 174.2, 141.8, 127.4, 122.0, 120.2, 127.4, 118.4, 113.0, 102.2]\n",
    "\n",
    "std_C = np.std(temperatures_C)\n",
    "std_F = np.std(temperatures_F)\n",
    "relation_std_C_F = (round(std_C/std_F, 2))\n",
    "\n",
    "print(\"The standard deviation for temperatures_C is\", std_C)\n",
    "print(\"The standard deviation for temperatures_F is\", std_F)\n",
    "print(\"The relation between std_C and std_F is\", relation_std_C_F)"
   ]
  },
  {
   "cell_type": "code",
   "execution_count": null,
   "metadata": {},
   "outputs": [],
   "source": []
  }
 ],
 "metadata": {
  "kernelspec": {
   "display_name": "Python 3",
   "language": "python",
   "name": "python3"
  },
  "language_info": {
   "codemirror_mode": {
    "name": "ipython",
    "version": 3
   },
   "file_extension": ".py",
   "mimetype": "text/x-python",
   "name": "python",
   "nbconvert_exporter": "python",
   "pygments_lexer": "ipython3",
   "version": "3.7.6"
  }
 },
 "nbformat": 4,
 "nbformat_minor": 2
}
