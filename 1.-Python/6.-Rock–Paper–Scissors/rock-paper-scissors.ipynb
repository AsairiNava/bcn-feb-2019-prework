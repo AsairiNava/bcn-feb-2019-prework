{
 "cells": [
  {
   "cell_type": "markdown",
   "metadata": {},
   "source": [
    "<img src=\"https://bit.ly/2VnXWr2\" width=\"100\" align=\"left\">"
   ]
  },
  {
   "cell_type": "markdown",
   "metadata": {},
   "source": [
    "# Rock, Paper & Scissors\n",
    "\n",
    "Let's play the famous game against our computer. You can check the rules [here](https://en.wikipedia.org/wiki/Rock%E2%80%93paper%E2%80%93scissors). \n",
    "\n",
    "## Task\n",
    "Create a program that imitates the playability of the well known game of rock, paper, scissors. Follow the guidelines provided.\n",
    "\n",
    "## Tools\n",
    "1. Loop: **for/while**\n",
    "2. Functions: **input(), print()...**\n",
    "3. Conditional statements: **if, elif, else**\n",
    "4. Definition of functions. Modular programming\n",
    "5. Import modules\n",
    "\n",
    "**To solve this challenge, the use of functions is recommended.**\n",
    "\n",
    "#### 1. Import the choice function of the random module."
   ]
  },
  {
   "cell_type": "code",
   "execution_count": 1,
   "metadata": {},
   "outputs": [],
   "source": [
    "import random as r"
   ]
  },
  {
   "cell_type": "markdown",
   "metadata": {},
   "source": [
    "#### 2. Create a list that includes the 3 possible gesture options of the game: 'rock', 'paper' or 'scissors'. Store the list in a variable called `gestures`."
   ]
  },
  {
   "cell_type": "code",
   "execution_count": 2,
   "metadata": {},
   "outputs": [],
   "source": [
    "gestures = ['rock', 'paper', 'Scissors']"
   ]
  },
  {
   "cell_type": "markdown",
   "metadata": {},
   "source": [
    "#### 3. Create a variable called `n_rounds` to store the maximum number of rounds to play in a game. \n",
    "Remember that the number of rounds must be odd: 1, 3, 5, ..."
   ]
  },
  {
   "cell_type": "code",
   "execution_count": 3,
   "metadata": {},
   "outputs": [],
   "source": [
    "n_rounds = 0"
   ]
  },
  {
   "cell_type": "markdown",
   "metadata": {},
   "source": [
    "#### 4. Create a variable called `rounds_to_win` to store the number of rounds that a player must win to win the game.\n",
    "**Hint**: the value stored in `rounds_to_win` depends on the value of `n_rounds`. "
   ]
  },
  {
   "cell_type": "code",
   "execution_count": 4,
   "metadata": {},
   "outputs": [],
   "source": [
    "rounds_to_win = 0"
   ]
  },
  {
   "cell_type": "markdown",
   "metadata": {},
   "source": [
    "#### 5. Create two variables to store the number of rounds that the computer and the player have won. Call these variables `cpu_score` and `player_score`."
   ]
  },
  {
   "cell_type": "code",
   "execution_count": 5,
   "metadata": {},
   "outputs": [],
   "source": [
    "cpu_score = 0\n",
    "players_score = 0"
   ]
  },
  {
   "cell_type": "markdown",
   "metadata": {},
   "source": [
    "#### 6. Define a function that randomly returns one of the 3 gesture options.\n",
    "You will use this function to simulate the gesture choice of the computer. "
   ]
  },
  {
   "cell_type": "code",
   "execution_count": 6,
   "metadata": {},
   "outputs": [],
   "source": [
    "def cpu_choice (gestures):\n",
    "    return choice(gestures)"
   ]
  },
  {
   "cell_type": "markdown",
   "metadata": {},
   "source": [
    "#### 7. Define a function that asks the player which is the gesture he or she wants to show: 'rock', 'paper' or 'scissors'.\n",
    "The player should only be allowed to choose one of the 3 gesture options. If the player's choice is not rock, paper or scissors, keep asking until it is."
   ]
  },
  {
   "cell_type": "code",
   "execution_count": 7,
   "metadata": {},
   "outputs": [],
   "source": [
    "def player_choice():\n",
    "    player_choice = input(\"What do you choose: stone, paper or scissors?\")\n",
    "    while player_choice not in gestures:\n",
    "        if player_choice == \"stone\":\n",
    "            print(\"you choose stone\")\n",
    "        elif player_choice == \"paper\":\n",
    "            print(\"You choose paper\")\n",
    "            break\n",
    "        elif player_choice == \"scissors\":\n",
    "            print(\"You choose scissors\")\n",
    "        else:\n",
    "            return player_choice"
   ]
  },
  {
   "cell_type": "markdown",
   "metadata": {},
   "source": [
    "#### 8. Define a function that checks who won a round. \n",
    "The function should return 0 if there is a tie, 1 if the computer wins and 2 if the player wins."
   ]
  },
  {
   "cell_type": "code",
   "execution_count": 8,
   "metadata": {},
   "outputs": [],
   "source": [
    "def score():\n",
    "    if player_choice == \"stone\" and cpu_choice == \"stone\":\n",
    "        cpu_score += 0\n",
    "        player_score += 0\n",
    "    elif player_choice == \"paper\" and cpu_choice == \"paper\":\n",
    "        cpu_choice += 0\n",
    "        player_score += 0\n",
    "    elif player_choice == \"scissors\" and cpu_choice == \"scissors\":\n",
    "        cpu_score += 0\n",
    "        player_score += 0\n",
    "        \n",
    "    elif player_choice == \"stone\" and cpu_choice == \"paper\":\n",
    "        cpu_score += 0\n",
    "        player_score += 2\n",
    "    elif player_choice == \"stone\" and cpu_choice == \"scissors\":\n",
    "        cpu_choice += 1\n",
    "        player_score += 0\n",
    "        \n",
    "    elif player_choice == \"paper\" and cpu_choice == \"stone\":\n",
    "        cpu_score += 0\n",
    "        player_score += 2\n",
    "    elif player_choice == \"paper\" and cpu_choice == \"scissors\":\n",
    "        cpu_choice += 1\n",
    "        player_score += 0\n",
    "    \n",
    "    elif player_choice == \"scissors\" and cpu_choice == \"paper\":\n",
    "        cpu_score += 0\n",
    "        player_score += 2\n",
    "    elif player_choice == \"scissors\" and cpu_choice == \"stone\":\n",
    "        cpu_choice += 1\n",
    "        player_score += 0"
   ]
  },
  {
   "cell_type": "markdown",
   "metadata": {},
   "source": [
    "#### 9. Define a function that prints the choice of the computer, the choice of the player and a message that announces who won the current round. \n",
    "You should also use this function to update the variables that count the number of rounds that the computer and the player have won. The score of the winner increases by one point. If there is a tie, the score does not increase."
   ]
  },
  {
   "cell_type": "code",
   "execution_count": 9,
   "metadata": {},
   "outputs": [],
   "source": [
    "def choice():\n",
    "    if player_choice == \"stone\" and cpu_choice == \"stone\":\n",
    "        print(\"Stone vs stone. It's a tie\")\n",
    "        cpu_score += 0\n",
    "        player_score += 0\n",
    "        n_rounds += 1\n",
    "    elif player_choice == \"paper\" and cpu_choice == \"paper\":\n",
    "        print(\"Paper vs paper. It's a tie\")\n",
    "        cpu_choice += 0\n",
    "        player_score += 0\n",
    "        n_rounds += 1\n",
    "    elif player_choice == \"scissors\" and cpu_choice == \"scissors\":\n",
    "        print(\"Scissors vs scissors. It's a tie\")\n",
    "        cpu_score += 0\n",
    "        player_score += 0\n",
    "        n_rounds += 1\n",
    "        \n",
    "    elif player_choice == \"stone\" and cpu_choice == \"paper\":\n",
    "        print(\"Stone vs paper. You loose\")\n",
    "        cpu_score += 0\n",
    "        player_score += 2\n",
    "        n_rounds += 1\n",
    "    elif player_choice == \"stone\" and cpu_choice == \"scissors\":\n",
    "        print(\"Stone vs scissors. You win\")\n",
    "        cpu_choice += 1\n",
    "        player_score += 0\n",
    "        n_rounds += 1\n",
    "        \n",
    "    elif player_choice == \"paper\" and cpu_choice == \"stone\":\n",
    "        print(\"Paper vs stone. You win\")\n",
    "        cpu_score += 0\n",
    "        player_score += 2\n",
    "        n_rounds += 1\n",
    "    elif player_choice == \"paper\" and cpu_choice == \"scissors\":\n",
    "        print(\"Paper vs Scissors. You loose\")\n",
    "        cpu_choice += 1\n",
    "        player_score += 0\n",
    "        n_rounds += 1\n",
    "    \n",
    "    elif player_choice == \"scissors\" and cpu_choice == \"paper\":\n",
    "        print(\"Scissors vs paper. You win\")\n",
    "        cpu_score += 0\n",
    "        player_score += 2\n",
    "        n_rounds += 1\n",
    "    elif player_choice == \"scissors\" and cpu_choice == \"stone\":\n",
    "        print(\"Scissors vs stone. You loose\")\n",
    "        cpu_choice += 1\n",
    "        player_score += 0\n",
    "        n_rounds += 1"
   ]
  },
  {
   "cell_type": "markdown",
   "metadata": {},
   "source": [
    "#### 10. Now it's time to code the execution of the game using the functions and variables you defined above. \n",
    "\n",
    "First, create a loop structure that repeats while no player reaches the minimum score necessary to win and the number of rounds is less than the maximum number of rounds to play in a game.  \n",
    "\n",
    "Inside the loop, use the functions and variables above to create the execution of a round: ask for the player's choice, generate the random choice of the computer, show the round results, update the scores, etc. "
   ]
  },
  {
   "cell_type": "code",
   "execution_count": null,
   "metadata": {},
   "outputs": [
    {
     "name": "stdout",
     "output_type": "stream",
     "text": [
      "What do you choose: stone, paper or scissors?paper\n",
      "You choose paper\n",
      "0\n",
      "CPU won\n"
     ]
    }
   ],
   "source": [
    "import random as r\n",
    "\n",
    "gestures = [\"stone\", \"rock\", \"scissors\"]\n",
    "\n",
    "n_rounds = 0\n",
    "rounds_to_win = 0\n",
    "cpu_score = 0\n",
    "player_score = 0\n",
    "\n",
    "def cpu_choice():\n",
    "    return r.choice(gestures)\n",
    "\n",
    "def player_choice():\n",
    "    player_choice = input(\"What do you choose: stone, paper or scissors?\")\n",
    "    while player_choice not in gestures:\n",
    "        if player_choice == \"stone\":\n",
    "            print(\"you choose stone\")\n",
    "        elif player_choice == \"paper\":\n",
    "            print(\"You choose paper\")\n",
    "            break\n",
    "        elif player_choice == \"scissors\":\n",
    "            print(\"You choose scissors\")\n",
    "        else:\n",
    "            return player_choice\n",
    "\n",
    "def choice():\n",
    "    if player_choice == \"stone\" and cpu_choice == \"stone\":\n",
    "        print(\"stone vs stone. It´s a tie!\")\n",
    "    elif player_choice == \"paper\" and cpu_choice == \"paper\":\n",
    "        print(\"paper vs paper. It's a tie!\")\n",
    "    elif player_choice == \"scissor\" and cpu_choice == \"scissors\":\n",
    "        print(\"scissors vs scissors. It's a tie!\")\n",
    "    elif player_choice == \"stone\" and cpu_choice == \"paper\":\n",
    "        print(\"stone vs paper. CPU win\")\n",
    "        cpu_score+= 1\n",
    "        n_games += 1\n",
    "    elif player_choice == \"stone\" and cpu_choice == \"scissors\":\n",
    "        print(\"stone vs scissors. You win\")\n",
    "        player_score += 1\n",
    "        n_games += 1\n",
    "    elif player_choice == \"paper\" and cpu_choice == \"stone\":\n",
    "        print(\"paper vs stone. You win\")\n",
    "        player_score += 1\n",
    "        n_games += 1\n",
    "    elif player_choice == \"paper\" and cpu_choice == \"scissors\":\n",
    "        print(\"paper vs scissors. CPU win\")\n",
    "        cpu_score += 1\n",
    "        n_games += 1\n",
    "    elif player_choice == \"scissors\" and cpu_choice == \"stone\":\n",
    "        print(\"scissors vs stone. CPU wins\")\n",
    "        cpu_score += 1\n",
    "        n_games += 1\n",
    "    elif player_choice == \"scissors\" and cpu_choice ==\"paper\":\n",
    "        print(\"scissors vs paper. You win\")\n",
    "        player_score += 1\n",
    "        n_games += 1\n",
    "\n",
    "def winner():\n",
    "    print((player_score) - (cpu_score))\n",
    "    \n",
    "while n_rounds < 5:\n",
    "    player_choice()\n",
    "    cpu_choices = cpu_choice()\n",
    "    choice()\n",
    "    winner()\n",
    "    if player_score > cpu_score:\n",
    "        print(\"You won\")\n",
    "    else:\n",
    "        print(\"CPU won\")"
   ]
  },
  {
   "cell_type": "markdown",
   "metadata": {},
   "source": [
    "#### 11. Print the winner of the game based on who won more rounds.\n",
    "Remember that the game might be tied. "
   ]
  },
  {
   "cell_type": "code",
   "execution_count": null,
   "metadata": {},
   "outputs": [
    {
     "name": "stdout",
     "output_type": "stream",
     "text": [
      "Stone, paper or scissors?. Please, type your choice.paper\n",
      "0\n",
      "CPU won\n",
      "Stone, paper or scissors?. Please, type your choice.rock\n",
      "0\n",
      "CPU won\n",
      "Stone, paper or scissors?. Please, type your choice.scissors\n",
      "0\n",
      "CPU won\n"
     ]
    }
   ],
   "source": [
    "import random\n",
    "\n",
    "gestures = ['rock', 'paper', 'scissors']\n",
    "\n",
    "n_rounds = 0\n",
    "rounds_to_win = 0\n",
    "cpu_score = 0\n",
    "player_score = 0\n",
    "\n",
    "def cpu_choice (gestures):\n",
    "    return random.choice(gestures)\n",
    "\n",
    "def player_choice(gestures):\n",
    "    player_choice = input(\"Stone, paper or scissors?. Please, type your choice.\")\n",
    "    \n",
    "    while player_choice not in gestures:\n",
    "        player_choice = input(\"That's not an option. Stone, paper or scissor?\")\n",
    "        \n",
    "        if player_choice == \"stone\":\n",
    "            print(\"You choose stone\")\n",
    "        elif player_choice == \"paper\":\n",
    "            print(\"You choose paper\")\n",
    "        elif player_choice == \"scissors\":\n",
    "            print(\"You choose scissor\")\n",
    "    \n",
    "    return str(player_choice)\n",
    "\n",
    "def choice(gestures):\n",
    "    if player_choice == \"stone\" and cpu_choice == \"stone\":\n",
    "        print(\"Stone vs stone. It's a tie\")\n",
    "        cpu_score += 0\n",
    "        player_score += 0\n",
    "        n_rounds += 1\n",
    "    elif player_choice == \"paper\" and cpu_choice == \"paper\":\n",
    "        print(\"Paper vs paper. It's a tie\")\n",
    "        cpu_choice += 0\n",
    "        player_score += 0\n",
    "        n_rounds += 1\n",
    "    elif player_choice == \"scissors\" and cpu_choice == \"scissors\":\n",
    "        print(\"Scissors vs scissors. It's a tie\")\n",
    "        cpu_score += 0\n",
    "        player_score += 0\n",
    "        n_rounds += 1\n",
    "        \n",
    "    elif player_choice == \"stone\" and cpu_choice == \"paper\":\n",
    "        print(\"Stone vs paper. You loose\")\n",
    "        cpu_score += 0\n",
    "        player_score += 2\n",
    "        n_rounds += 1\n",
    "    elif player_choice == \"stone\" and cpu_choice == \"scissors\":\n",
    "        print(\"Stone vs scissors. You win\")\n",
    "        cpu_choice += 1\n",
    "        player_score += 0\n",
    "        n_rounds += 1\n",
    "        \n",
    "    elif player_choice == \"paper\" and cpu_choice == \"stone\":\n",
    "        print(\"Paper vs stone. You win\")\n",
    "        cpu_score += 0\n",
    "        player_score += 2\n",
    "        n_rounds += 1\n",
    "    elif player_choice == \"paper\" and cpu_choice == \"scissors\":\n",
    "        print(\"Paper vs Scissors. You loose\")\n",
    "        cpu_choice += 1\n",
    "        player_score += 0\n",
    "        n_rounds += 1\n",
    "    \n",
    "    elif player_choice == \"scissors\" and cpu_choice == \"paper\":\n",
    "        print(\"Scissors vs paper. You win\")\n",
    "        cpu_score += 0\n",
    "        player_score += 2\n",
    "        n_rounds += 1\n",
    "    elif player_choice == \"scissors\" and cpu_choice == \"stone\":\n",
    "        print(\"Scissors vs stone. You loose\")\n",
    "        cpu_choice += 1\n",
    "        player_score += 0\n",
    "        n_rounds += 1\n",
    "        \n",
    "def winner():\n",
    "    print((player_score) - (cpu_score))\n",
    "    \n",
    "while n_rounds < 5:\n",
    "    player_choice(gestures)\n",
    "    cpu_choices = cpu_choice(gestures)\n",
    "    choice(gestures)\n",
    "    winner()\n",
    "    if player_score > cpu_score:\n",
    "        print(\"You won\")\n",
    "    else:\n",
    "        print(\"CPU won\")"
   ]
  },
  {
   "cell_type": "markdown",
   "metadata": {},
   "source": [
    "# Bonus: Rock, Paper, Scissors, Lizard & Spock\n",
    "![](images/rpsls.jpg)\n",
    "\n",
    "In this challenge, you need to improve the previous game by adding two new options. To know more about the rules of the improved version of rock, paper, scissors, check this [link](http://www.samkass.com/theories/RPSSL.html). \n",
    "\n",
    "In addition, you will also need to improve how the game interacts with the player: the number of rounds to play, which must be an odd number, will be requested to the user until a valid number is entered. Define a new function to make that request.\n",
    "\n",
    "**Hint**: Try to reuse the code that you already coded in the previous challenge. If your code is efficient, this bonus will only consist of simple modifications to the original game."
   ]
  },
  {
   "cell_type": "code",
   "execution_count": 2,
   "metadata": {},
   "outputs": [
    {
     "name": "stdout",
     "output_type": "stream",
     "text": [
      "Hello\n",
      "Welcome to Rock, Paper, Scissors, Lizard & Spock\n",
      "This an awesome game where the cpu almost always wins\n",
      "Good luck\n",
      "How many rounds you want to play? Introduce an odd number5\n",
      "Stone, paper, scissors, lizard or spock?. Please, type your choice.stone\n",
      "you lose\n",
      "Stone, paper, scissors, lizard or spock?. Please, type your choice.spock\n",
      "you lose\n",
      "Stone, paper, scissors, lizard or spock?. Please, type your choice.lizard\n",
      "you lose\n",
      "Stone, paper, scissors, lizard or spock?. Please, type your choice.paper\n",
      "you win\n",
      "Stone, paper, scissors, lizard or spock?. Please, type your choice.scissors\n",
      "you lose\n",
      "Player score 1\n",
      "CPU Score 4\n",
      "Rounds Played 5\n"
     ]
    }
   ],
   "source": [
    "import random\n",
    "\n",
    "print(\"Hello\")\n",
    "print(\"Welcome to Rock, Paper, Scissors, Lizard & Spock\")\n",
    "print(\"This an awesome game where the cpu almost always wins\")\n",
    "print(\"Good luck\")\n",
    "\n",
    "gestures = ['stone', 'paper', 'scissors', 'lizard', 'spock']\n",
    "\n",
    "def rounds_to_win(gestures):\n",
    "    while True:\n",
    "        rounds_to_win = input(\"How many rounds you want to play? Introduce an odd number\")\n",
    "        if int(rounds_to_win) %2 != 0:\n",
    "            break\n",
    "        else:\n",
    "            print('please input odd number')\n",
    "    return int(rounds_to_win)\n",
    "\n",
    "\n",
    "def cpu_choice(gestures):\n",
    "    return random.choice(gestures)\n",
    "\n",
    "def player_choice(gestures):\n",
    "    while True:\n",
    "        players_choice = input(\"Stone, paper, scissors, lizard or spock?. Please, type your choice.\")\n",
    "        if players_choice not in gestures:\n",
    "            print('input not valid')\n",
    "        else:\n",
    "            break\n",
    "    return players_choice\n",
    "\n",
    "def main_loop(gestures):\n",
    "    player_score=0\n",
    "    cpu_score=0\n",
    "    n_rounds=0\n",
    "    for i in range(rounds_to_win(gestures)):\n",
    "        n_rounds+=1\n",
    "        if player_choice(gestures) == cpu_choice(gestures):\n",
    "            print('you win')\n",
    "            player_score+=1\n",
    "        else:\n",
    "            print('you lose')\n",
    "            cpu_score+=1\n",
    "    print(f'Player score {player_score}\\nCPU Score {cpu_score}\\nRounds Played {n_rounds}')\n",
    "\n",
    "main_loop(gestures)"
   ]
  },
  {
   "cell_type": "raw",
   "metadata": {},
   "source": []
  },
  {
   "cell_type": "code",
   "execution_count": null,
   "metadata": {},
   "outputs": [],
   "source": []
  }
 ],
 "metadata": {
  "kernelspec": {
   "display_name": "Python 3",
   "language": "python",
   "name": "python3"
  },
  "language_info": {
   "codemirror_mode": {
    "name": "ipython",
    "version": 3
   },
   "file_extension": ".py",
   "mimetype": "text/x-python",
   "name": "python",
   "nbconvert_exporter": "python",
   "pygments_lexer": "ipython3",
   "version": "3.7.6"
  }
 },
 "nbformat": 4,
 "nbformat_minor": 2
}
